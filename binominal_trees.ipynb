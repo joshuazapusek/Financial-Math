{
 "metadata": {
  "language_info": {
   "codemirror_mode": {
    "name": "ipython",
    "version": 3
   },
   "file_extension": ".py",
   "mimetype": "text/x-python",
   "name": "python",
   "nbconvert_exporter": "python",
   "pygments_lexer": "ipython3",
   "version": "3.8.3"
  },
  "orig_nbformat": 2,
  "kernelspec": {
   "name": "python383jvsc74a57bd031034b40dc3571fa7b5fd5ededc1b39b8559ab61427447a9b282bd591cf2e7b2",
   "display_name": "Python 3.8.3 64-bit ('base': conda)"
  }
 },
 "nbformat": 4,
 "nbformat_minor": 2,
 "cells": [
  {
   "source": [
    "# Project 1: Binominal Trees\n"
   ],
   "cell_type": "markdown",
   "metadata": {}
  },
  {
   "source": [
    "## Intro: \n",
    "This notebook will cover the following analysis:\n",
    "* Binominal Trees European Options Pricing\n",
    "* Black-Scholes model for pricing\n",
    "* Least Squares Line (Trees vs Black-Scholes)\n",
    "* Convergence Rate of Binaominal Treesfor increasing steps "
   ],
   "cell_type": "markdown",
   "metadata": {}
  },
  {
   "source": [
    "## Part A: Binominal Trees"
   ],
   "cell_type": "markdown",
   "metadata": {}
  },
  {
   "cell_type": "code",
   "execution_count": 31,
   "metadata": {},
   "outputs": [],
   "source": [
    "import math\n",
    "import numpy as np\n",
    "import matplotlib.pyplot as plt"
   ]
  },
  {
   "cell_type": "code",
   "execution_count": 32,
   "metadata": {},
   "outputs": [],
   "source": [
    "# Data\n",
    "k = 10\n",
    "r = 0.02\n",
    "sig = 0.25\n",
    "t = 0.25\n",
    "s = 10\n",
    "u = math.exp(sig*math.sqrt(t))\n",
    "d = 1 / u\n",
    "p = (math.exp(r * t) - d) / (u - d)\n",
    "N = [10, 100, 1000, 10000]"
   ]
  },
  {
   "source": [
    "### In order to obtain a feasible runtime, use dynamic programming approach (O(n^2) vs. O(2^n))"
   ],
   "cell_type": "markdown",
   "metadata": {}
  },
  {
   "cell_type": "code",
   "execution_count": 33,
   "metadata": {},
   "outputs": [],
   "source": [
    "# Build table\n",
    "def tableBuild(n):\n",
    "    # Height = n, Width = n + 1\n",
    "    return np.zeros([n, n+1], dtype=int)"
   ]
  },
  {
   "cell_type": "code",
   "execution_count": 37,
   "metadata": {},
   "outputs": [],
   "source": [
    "def binominal_trees(i, j, N, s):\n",
    "    # Base Case:\n",
    "    if (i == N - 1):\n",
    "        # Set table\n",
    "        node = s * u - k\n",
    "        tree[i][j] = node\n",
    "        visual()\n",
    "        return s * u - k\n",
    "    # Recurse\n",
    "    elif (tree[i+1][j] == 0 and tree[i+1][j-1] == 0): \n",
    "        # compute both left and right nodes\n",
    "        s_up = s * u\n",
    "        s_down = s * d\n",
    "        node = math.exp(-1 * r * t) * (p * binominal_trees(i+1, j, N, s_up) + (1 - p) * binominal_trees(i+1, j-1, N, s_down))\n",
    "        tree[i][j] = node\n",
    "        visual()\n",
    "        return node\n",
    "    else:\n",
    "        # compute only left node\n",
    "        s_down = s * d\n",
    "        node = math.exp(-1 * r * t) * (tree[i+1][j] + (1 - p) * binominal_trees(i+1, j-1, N, s_down))\n",
    "        tree[i][j] = node\n",
    "        visual()\n",
    "        return node\n",
    "    "
   ]
  },
  {
   "cell_type": "code",
   "execution_count": 38,
   "metadata": {},
   "outputs": [],
   "source": [
    "def visual():\n",
    "    print(tree)"
   ]
  },
  {
   "source": [
    "## Part B: Bloack-Scholes "
   ],
   "cell_type": "markdown",
   "metadata": {}
  },
  {
   "cell_type": "code",
   "execution_count": null,
   "metadata": {},
   "outputs": [],
   "source": [
    "def black_scholes():"
   ]
  },
  {
   "source": [
    "## Part C: Results Table"
   ],
   "cell_type": "markdown",
   "metadata": {}
  },
  {
   "cell_type": "code",
   "execution_count": null,
   "metadata": {},
   "outputs": [],
   "source": [
    "# Return |E| for all N\n",
    "def differences():\n"
   ]
  },
  {
   "cell_type": "code",
   "execution_count": 40,
   "metadata": {},
   "outputs": [
    {
     "output_type": "stream",
     "name": "stdout",
     "text": [
      "[[0 0 0 0]\n [0 0 0 0]\n [0 0 0 4]]\n[[0 0 0 0]\n [0 0 0 0]\n [0 0 1 4]]\n[[0 0 0 0]\n [0 0 0 2]\n [0 0 1 4]]\n[[ 0  0  0  0]\n [ 0  0  0  2]\n [ 0 -1  1  4]]\n[[ 0  0  0  0]\n [ 0  0  0  2]\n [ 0 -1  1  4]]\n[[ 0  0  0  1]\n [ 0  0  0  2]\n [ 0 -1  1  4]]\n1.6077176503653903\n"
     ]
    }
   ],
   "source": [
    "# main compute loop for parts A - C\n",
    "# Get C for N = 10, 100, 1,000, 10,000\n",
    "# for i in range(len(N)):\n",
    "\n",
    "n = 3\n",
    "tree = tableBuild(n)\n",
    "C = binominal_trees(0, n, n, 10)\n",
    "print(C)\n"
   ]
  },
  {
   "source": [
    "## Part D: Plot of Least Squares"
   ],
   "cell_type": "markdown",
   "metadata": {}
  },
  {
   "source": [
    "## Part E: Convergence Rate of Binominal Trees\n",
    "write soln here"
   ],
   "cell_type": "markdown",
   "metadata": {}
  }
 ]
}