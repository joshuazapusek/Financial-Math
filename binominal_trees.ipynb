{
 "metadata": {
  "language_info": {
   "codemirror_mode": {
    "name": "ipython",
    "version": 3
   },
   "file_extension": ".py",
   "mimetype": "text/x-python",
   "name": "python",
   "nbconvert_exporter": "python",
   "pygments_lexer": "ipython3",
   "version": "3.8.3"
  },
  "orig_nbformat": 2,
  "kernelspec": {
   "name": "python383jvsc74a57bd031034b40dc3571fa7b5fd5ededc1b39b8559ab61427447a9b282bd591cf2e7b2",
   "display_name": "Python 3.8.3 64-bit ('base': conda)"
  }
 },
 "nbformat": 4,
 "nbformat_minor": 2,
 "cells": [
  {
   "source": [
    "# Project 1: Binominal Trees\n"
   ],
   "cell_type": "markdown",
   "metadata": {}
  },
  {
   "source": [
    "## Intro: \n",
    "This notebook will cover the following analsis:\n",
    "* Binominal Trees European Options Pricing\n",
    "* Black-Scholes model for pricing\n",
    "* Least Squares Line (Trees vs Black-Scholes)\n",
    "* Convergence Rate of Binaominal Treesfor increasing steps "
   ],
   "cell_type": "markdown",
   "metadata": {}
  },
  {
   "source": [
    "## Part A: Binominal Trees"
   ],
   "cell_type": "markdown",
   "metadata": {}
  },
  {
   "cell_type": "code",
   "execution_count": 9,
   "metadata": {},
   "outputs": [],
   "source": [
    "import math"
   ]
  },
  {
   "cell_type": "code",
   "execution_count": 10,
   "metadata": {},
   "outputs": [],
   "source": [
    "# Data\n",
    "k = 10\n",
    "r = 0.02\n",
    "sig = 0.25\n",
    "t = 0.25\n",
    "s = 10\n",
    "u = math.exp(sig*math.sqrt(t))\n",
    "d = 1 / u"
   ]
  },
  {
   "cell_type": "code",
   "execution_count": null,
   "metadata": {},
   "outputs": [],
   "source": []
  }
 ]
}