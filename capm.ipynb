{
 "metadata": {
  "language_info": {
   "codemirror_mode": {
    "name": "ipython",
    "version": 3
   },
   "file_extension": ".py",
   "mimetype": "text/x-python",
   "name": "python",
   "nbconvert_exporter": "python",
   "pygments_lexer": "ipython3",
   "version": "3.8.3"
  },
  "orig_nbformat": 2,
  "kernelspec": {
   "name": "python383jvsc74a57bd031034b40dc3571fa7b5fd5ededc1b39b8559ab61427447a9b282bd591cf2e7b2",
   "display_name": "Python 3.8.3 64-bit ('base': conda)"
  }
 },
 "nbformat": 4,
 "nbformat_minor": 2,
 "cells": [
  {
   "cell_type": "code",
   "execution_count": 5,
   "metadata": {},
   "outputs": [],
   "source": [
    "import math\n"
   ]
  },
  {
   "cell_type": "code",
   "execution_count": 6,
   "metadata": {},
   "outputs": [],
   "source": [
    "w1 = [0.0, 0.2, 0.4, 0.6, 0.8, 1.0]\n",
    "w2 = [1.0, 0.8, 0.6, 0.4, 0.2, 0.0]\n",
    "up_arr = []\n",
    "op_arr = []\n",
    "u1 = 0.08\n",
    "u2 = 0.1\n",
    "corr = 0.3\n",
    "sd1 = 0.2\n",
    "sd2 = 0.3"
   ]
  },
  {
   "cell_type": "code",
   "execution_count": 7,
   "metadata": {},
   "outputs": [
    {
     "output_type": "stream",
     "name": "stdout",
     "text": [
      "[10.0, 9.600000000000001, 9.2, 8.8, 8.4, 8.0]\n[30.0, 25.487251715318386, 21.78072542409917, 19.34941859591652, 18.69759342803239, 20.0]\n"
     ]
    }
   ],
   "source": [
    "for i in range(len(w1)):\n",
    "    up = w1[i] * u1 + w2[i] * u2\n",
    "    up_arr.append(up * 100)\n",
    "    op = math.sqrt((w1[i]**2 * sd1**2) + (w2[i]**2 * sd2**2) + (2 * corr * w1[i] * w2[i] * sd1 * sd2))\n",
    "    op_arr.append(op * 100)\n",
    "print(up_arr)\n",
    "print(op_arr)\n"
   ]
  }
 ]
}